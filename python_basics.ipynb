{
 "cells": [
  {
   "cell_type": "markdown",
   "id": "f9f47283",
   "metadata": {},
   "source": [
    "A notebook to go over the basics of python"
   ]
  },
  {
   "cell_type": "code",
   "execution_count": null,
   "id": "cc66d489",
   "metadata": {},
   "outputs": [],
   "source": [
    "num = 1"
   ]
  }
 ],
 "metadata": {
  "language_info": {
   "name": "python"
  }
 },
 "nbformat": 4,
 "nbformat_minor": 5
}
